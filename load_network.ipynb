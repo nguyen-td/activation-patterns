{
 "cells": [
  {
   "cell_type": "code",
   "execution_count": 1,
   "id": "ef7a86ee-6ab9-4bb0-bf8a-837d96e5cc4c",
   "metadata": {
    "tags": []
   },
   "outputs": [],
   "source": [
    "import torch\n",
    "import matplotlib.pyplot as plt\n",
    "import numpy as np\n",
    "import seaborn as sns\n",
    "\n",
    "from network.network import RNNModel\n",
    "from trajectory_generator import TrajectoryGenerator\n",
    "from utils.make_train_data import make_train_data\n",
    "from utils.create_ratemaps import create_ratemaps\n",
    "\n",
    "%load_ext autoreload\n",
    "%autoreload 2"
   ]
  },
  {
   "cell_type": "markdown",
   "id": "c28e86a6-43b7-4179-9545-42d97d0685d2",
   "metadata": {},
   "source": [
    "### Generate test data"
   ]
  },
  {
   "cell_type": "code",
   "execution_count": 3,
   "id": "b0173d1d-176b-4deb-9996-0b85ea3696ea",
   "metadata": {
    "tags": []
   },
   "outputs": [],
   "source": [
    "# define parameters\n",
    "T = 20  # duration of simulated trajectories (seconds)\n",
    "srate = 50  # sampling rate (Hz)\n",
    "\n",
    "border_region = 0.03  # max. distance to wall (m)\n",
    "sequence_length = T * srate  # number of steps in trajectory\n",
    "box_width = 2.2       # width of training environment (m)\n",
    "box_height = 2.2      # height of training environment (m)\n",
    "n_data_test = 32 * 200"
   ]
  },
  {
   "cell_type": "code",
   "execution_count": 4,
   "id": "b1a9d5d3-2de6-4058-9d10-b20c249756f7",
   "metadata": {
    "tags": []
   },
   "outputs": [],
   "source": [
    "# generate test data\n",
    "trajectory_generator = TrajectoryGenerator(sequence_length, border_region, box_width, box_height, n_data_test)\n",
    "position, velocity, head_dir = trajectory_generator.generate_trajectory()\n",
    "test = make_train_data(velocity, head_dir)"
   ]
  },
  {
   "cell_type": "markdown",
   "id": "f4698ecd-bc89-4951-8a9f-a86319eea877",
   "metadata": {},
   "source": [
    "### Run model on test data"
   ]
  },
  {
   "cell_type": "code",
   "execution_count": 7,
   "id": "267465a4-3ead-4c6e-919d-f7b3a7405791",
   "metadata": {
    "tags": []
   },
   "outputs": [
    {
     "name": "stdout",
     "output_type": "stream",
     "text": [
      "Start evaluation run: \n",
      "........................................................................................................................................................................................................\n",
      "\n",
      "Aggregated loss: 0.08655377064434999  202.698 seconds for this run \n",
      "\n"
     ]
    }
   ],
   "source": [
    "# load model\n",
    "hidden_size = 256\n",
    "mini_batch_size = 32\n",
    "rnn_layer = 'custom'\n",
    "n_data = '30k'\n",
    "rnn_model = torch.load(f'models/RNN-{hidden_size}-{rnn_layer}-{n_data}-model.pt')\n",
    "# rnn_model = RNNModel(hidden_size, mini_batch_size, rnn_layer)\n",
    "# rnn_model.double()\n",
    "# rnn_model.load_state_dict(torch.load(f'models/RNN-{hidden_size}-{rnn_layer}-model.pt', map_location=torch.device('cpu')))\n",
    "\n",
    "rnn_model.eval()\n",
    "aggregate_loss, y_pred, x = rnn_model.evaluate(test, position)"
   ]
  },
  {
   "cell_type": "markdown",
   "id": "d5596512-5881-43ce-a714-b868fbc60135",
   "metadata": {},
   "source": [
    "### Plot trajectories"
   ]
  },
  {
   "cell_type": "code",
   "execution_count": null,
   "id": "cc9dcf4e-598b-4e21-a644-71e2cc1ad624",
   "metadata": {
    "tags": []
   },
   "outputs": [],
   "source": [
    "# plot trajectories generated from the network (on test data)\n",
    "traj_idx = 3\n",
    "plt.scatter(position[traj_idx, 0, 0], position[traj_idx, 0, 1], color = 'red', label = 'simulated starting point')\n",
    "plt.plot(position[traj_idx, :, 0], position[traj_idx, :, 1], label = 'simulated trajectory')\n",
    "\n",
    "plt.scatter(y_pred[traj_idx, 0, 0], y_pred[traj_idx, 0, 1], color = 'green', label = 'decoded starting point')\n",
    "plt.plot(y_pred[traj_idx, :, 0], y_pred[traj_idx, :, 1], label = 'decoded trajectory')\n",
    "plt.xlim(-1.2, 1.2)\n",
    "plt.ylim(-1.2, 1.2)\n",
    "plt.legend(bbox_to_anchor=(1.5, 1.))\n",
    "\n",
    "plt.savefig('trajectory.png', bbox_inches='tight')\n",
    "# plt.show()"
   ]
  },
  {
   "cell_type": "markdown",
   "id": "d066d143-d0c6-4077-9ff8-f5980ef13115",
   "metadata": {},
   "source": [
    "### Compute spatial maps"
   ]
  },
  {
   "cell_type": "code",
   "execution_count": null,
   "id": "a736d121-0e82-440a-bcd8-343df060964d",
   "metadata": {
    "tags": []
   },
   "outputs": [
    {
     "name": "stdout",
     "output_type": "stream",
     "text": [
      "Neuron 1\n",
      "................\n"
     ]
    }
   ],
   "source": [
    "spatial_maps = create_ratemaps(x, y_pred, box_width, box_height)"
   ]
  },
  {
   "cell_type": "code",
   "execution_count": 87,
   "id": "b87dc1f5-d49f-4f9d-ba60-27bb2612d9f0",
   "metadata": {
    "tags": []
   },
   "outputs": [],
   "source": [
    "# create a heatmap\n",
    "# fill them with values according to coordinates"
   ]
  },
  {
   "cell_type": "code",
   "execution_count": null,
   "id": "ced6f4fb-b221-40c6-8cfc-f6879cae4ff4",
   "metadata": {},
   "outputs": [],
   "source": [
    "x = data[:, 0]\n",
    "y = data[:, 1]\n",
    "z = data[:, 2]\n",
    "\n",
    "x_bins = np.linspace(0, 220, 111)  # 110 bins of size 2 cm\n",
    "y_bins = np.linspace(0, 220, 111)\n",
    "\n",
    "heatmap, xedges, yedges = np.histogram2d(x, y, bins=[x_bins, y_bins], weights=z)\n",
    "\n",
    "plt.imshow(heatmap.T, extent=[x_bins.min(), x_bins.max(), y_bins.min(), y_bins.max()], origin='lower', cmap='viridis')\n",
    "plt.colorbar(label='Z Value')\n",
    "plt.xlabel('X Coordinate')\n",
    "plt.ylabel('Y Coordinate')\n",
    "plt.title('Heatmap of Z Values')\n",
    "plt.show()"
   ]
  }
 ],
 "metadata": {
  "kernelspec": {
   "display_name": "Python 3 (ipykernel)",
   "language": "python",
   "name": "python3"
  },
  "language_info": {
   "codemirror_mode": {
    "name": "ipython",
    "version": 3
   },
   "file_extension": ".py",
   "mimetype": "text/x-python",
   "name": "python",
   "nbconvert_exporter": "python",
   "pygments_lexer": "ipython3",
   "version": "3.9.17"
  }
 },
 "nbformat": 4,
 "nbformat_minor": 5
}
