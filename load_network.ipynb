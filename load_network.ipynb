{
 "cells": [
  {
   "cell_type": "code",
   "execution_count": 2,
   "id": "ef7a86ee-6ab9-4bb0-bf8a-837d96e5cc4c",
   "metadata": {
    "tags": []
   },
   "outputs": [],
   "source": [
    "import torch\n",
    "import matplotlib.pyplot as plt\n",
    "import numpy as np\n",
    "import seaborn as sns\n",
    "\n",
    "from network.network import RNNModel\n",
    "from utils import make_train_data, TrajectoryGenerator, create_ratemaps\n",
    "%load_ext autoreload\n",
    "%autoreload 2"
   ]
  },
  {
   "cell_type": "markdown",
   "id": "c28e86a6-43b7-4179-9545-42d97d0685d2",
   "metadata": {},
   "source": [
    "### Load data"
   ]
  },
  {
   "cell_type": "code",
   "execution_count": 12,
   "id": "8b861638-5fff-47e2-8df4-2831eaec684c",
   "metadata": {
    "tags": []
   },
   "outputs": [
    {
     "ename": "UnicodeDecodeError",
     "evalue": "'utf-8' codec can't decode byte 0x82 in position 4717122: invalid start byte",
     "output_type": "error",
     "traceback": [
      "\u001b[1;31m---------------------------------------------------------------------------\u001b[0m",
      "\u001b[1;31mUnicodeDecodeError\u001b[0m                        Traceback (most recent call last)",
      "Cell \u001b[1;32mIn[12], line 1\u001b[0m\n\u001b[1;32m----> 1\u001b[0m data \u001b[38;5;241m=\u001b[39m \u001b[43mtorch\u001b[49m\u001b[38;5;241;43m.\u001b[39;49m\u001b[43mload\u001b[49m\u001b[43m(\u001b[49m\u001b[38;5;124;43m'\u001b[39;49m\u001b[38;5;124;43mdata.pt\u001b[39;49m\u001b[38;5;124;43m'\u001b[39;49m\u001b[43m)\u001b[49m\n",
      "File \u001b[1;32m~\\anaconda3\\envs\\activationpatterns\\lib\\site-packages\\torch\\serialization.py:809\u001b[0m, in \u001b[0;36mload\u001b[1;34m(f, map_location, pickle_module, weights_only, **pickle_load_args)\u001b[0m\n\u001b[0;32m    807\u001b[0m             \u001b[38;5;28;01mexcept\u001b[39;00m \u001b[38;5;167;01mRuntimeError\u001b[39;00m \u001b[38;5;28;01mas\u001b[39;00m e:\n\u001b[0;32m    808\u001b[0m                 \u001b[38;5;28;01mraise\u001b[39;00m pickle\u001b[38;5;241m.\u001b[39mUnpicklingError(UNSAFE_MESSAGE \u001b[38;5;241m+\u001b[39m \u001b[38;5;28mstr\u001b[39m(e)) \u001b[38;5;28;01mfrom\u001b[39;00m \u001b[38;5;28;01mNone\u001b[39;00m\n\u001b[1;32m--> 809\u001b[0m         \u001b[38;5;28;01mreturn\u001b[39;00m _load(opened_zipfile, map_location, pickle_module, \u001b[38;5;241m*\u001b[39m\u001b[38;5;241m*\u001b[39mpickle_load_args)\n\u001b[0;32m    810\u001b[0m \u001b[38;5;28;01mif\u001b[39;00m weights_only:\n\u001b[0;32m    811\u001b[0m     \u001b[38;5;28;01mtry\u001b[39;00m:\n",
      "File \u001b[1;32m~\\anaconda3\\envs\\activationpatterns\\lib\\site-packages\\torch\\serialization.py:1172\u001b[0m, in \u001b[0;36m_load\u001b[1;34m(zip_file, map_location, pickle_module, pickle_file, **pickle_load_args)\u001b[0m\n\u001b[0;32m   1170\u001b[0m unpickler \u001b[38;5;241m=\u001b[39m UnpicklerWrapper(data_file, \u001b[38;5;241m*\u001b[39m\u001b[38;5;241m*\u001b[39mpickle_load_args)\n\u001b[0;32m   1171\u001b[0m unpickler\u001b[38;5;241m.\u001b[39mpersistent_load \u001b[38;5;241m=\u001b[39m persistent_load\n\u001b[1;32m-> 1172\u001b[0m result \u001b[38;5;241m=\u001b[39m \u001b[43munpickler\u001b[49m\u001b[38;5;241;43m.\u001b[39;49m\u001b[43mload\u001b[49m\u001b[43m(\u001b[49m\u001b[43m)\u001b[49m\n\u001b[0;32m   1174\u001b[0m torch\u001b[38;5;241m.\u001b[39m_utils\u001b[38;5;241m.\u001b[39m_validate_loaded_sparse_tensors()\n\u001b[0;32m   1176\u001b[0m \u001b[38;5;28;01mreturn\u001b[39;00m result\n",
      "\u001b[1;31mUnicodeDecodeError\u001b[0m: 'utf-8' codec can't decode byte 0x82 in position 4717122: invalid start byte"
     ]
    }
   ],
   "source": [
    "data = torch.load('data.pt')"
   ]
  },
  {
   "cell_type": "markdown",
   "id": "f4698ecd-bc89-4951-8a9f-a86319eea877",
   "metadata": {},
   "source": [
    "### Run model on test data"
   ]
  },
  {
   "cell_type": "code",
   "execution_count": 7,
   "id": "267465a4-3ead-4c6e-919d-f7b3a7405791",
   "metadata": {
    "tags": []
   },
   "outputs": [
    {
     "name": "stdout",
     "output_type": "stream",
     "text": [
      "Start evaluation run: \n",
      "........................................................................................................................................................................................................\n",
      "\n",
      "Aggregated loss: 0.08655377064434999  202.698 seconds for this run \n",
      "\n"
     ]
    }
   ],
   "source": [
    "# load model\n",
    "hidden_size = 256\n",
    "mini_batch_size = 32\n",
    "rnn_layer = 'custom'\n",
    "n_data = '30k'\n",
    "rnn_model = torch.load(f'models/RNN-{hidden_size}-{rnn_layer}-{n_data}-model.pt')\n",
    "# rnn_model = RNNModel(hidden_size, mini_batch_size, rnn_layer)\n",
    "# rnn_model.double()\n",
    "# rnn_model.load_state_dict(torch.load(f'models/RNN-{hidden_size}-{rnn_layer}-model.pt', map_location=torch.device('cpu')))\n",
    "\n",
    "rnn_model.eval()\n",
    "aggregate_loss, y_pred, x = rnn_model.evaluate(test, position)"
   ]
  },
  {
   "cell_type": "markdown",
   "id": "d5596512-5881-43ce-a714-b868fbc60135",
   "metadata": {},
   "source": [
    "### Plot trajectories"
   ]
  },
  {
   "cell_type": "code",
   "execution_count": null,
   "id": "cc9dcf4e-598b-4e21-a644-71e2cc1ad624",
   "metadata": {
    "tags": []
   },
   "outputs": [],
   "source": [
    "# plot trajectories generated from the network (on test data)\n",
    "traj_idx = 3\n",
    "plt.scatter(position[traj_idx, 0, 0], position[traj_idx, 0, 1], color = 'red', label = 'simulated starting point')\n",
    "plt.plot(position[traj_idx, :, 0], position[traj_idx, :, 1], label = 'simulated trajectory')\n",
    "\n",
    "plt.scatter(y_pred[traj_idx, 0, 0], y_pred[traj_idx, 0, 1], color = 'green', label = 'decoded starting point')\n",
    "plt.plot(y_pred[traj_idx, :, 0], y_pred[traj_idx, :, 1], label = 'decoded trajectory')\n",
    "plt.xlim(-1.2, 1.2)\n",
    "plt.ylim(-1.2, 1.2)\n",
    "plt.legend(bbox_to_anchor=(1.5, 1.))\n",
    "\n",
    "plt.savefig('trajectory.png', bbox_inches='tight')\n",
    "# plt.show()"
   ]
  },
  {
   "cell_type": "markdown",
   "id": "d066d143-d0c6-4077-9ff8-f5980ef13115",
   "metadata": {},
   "source": [
    "### Compute spatial maps"
   ]
  },
  {
   "cell_type": "code",
   "execution_count": null,
   "id": "a736d121-0e82-440a-bcd8-343df060964d",
   "metadata": {
    "tags": []
   },
   "outputs": [
    {
     "name": "stdout",
     "output_type": "stream",
     "text": [
      "Neuron 1\n",
      "................\n"
     ]
    }
   ],
   "source": [
    "spatial_maps = create_ratemaps(x, y_pred, box_width, box_height)"
   ]
  },
  {
   "cell_type": "code",
   "execution_count": 87,
   "id": "b87dc1f5-d49f-4f9d-ba60-27bb2612d9f0",
   "metadata": {
    "tags": []
   },
   "outputs": [],
   "source": [
    "# create a heatmap\n",
    "# fill them with values according to coordinates"
   ]
  },
  {
   "cell_type": "code",
   "execution_count": null,
   "id": "ced6f4fb-b221-40c6-8cfc-f6879cae4ff4",
   "metadata": {},
   "outputs": [],
   "source": [
    "x = data[:, 0]\n",
    "y = data[:, 1]\n",
    "z = data[:, 2]\n",
    "\n",
    "x_bins = np.linspace(0, 220, 111)  # 110 bins of size 2 cm\n",
    "y_bins = np.linspace(0, 220, 111)\n",
    "\n",
    "heatmap, xedges, yedges = np.histogram2d(x, y, bins=[x_bins, y_bins], weights=z)\n",
    "\n",
    "plt.imshow(heatmap.T, extent=[x_bins.min(), x_bins.max(), y_bins.min(), y_bins.max()], origin='lower', cmap='viridis')\n",
    "plt.colorbar(label='Z Value')\n",
    "plt.xlabel('X Coordinate')\n",
    "plt.ylabel('Y Coordinate')\n",
    "plt.title('Heatmap of Z Values')\n",
    "plt.show()"
   ]
  }
 ],
 "metadata": {
  "kernelspec": {
   "display_name": "Python 3 (ipykernel)",
   "language": "python",
   "name": "python3"
  },
  "language_info": {
   "codemirror_mode": {
    "name": "ipython",
    "version": 3
   },
   "file_extension": ".py",
   "mimetype": "text/x-python",
   "name": "python",
   "nbconvert_exporter": "python",
   "pygments_lexer": "ipython3",
   "version": "3.9.17"
  }
 },
 "nbformat": 4,
 "nbformat_minor": 5
}
